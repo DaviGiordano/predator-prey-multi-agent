{
 "cells": [
  {
   "cell_type": "code",
   "execution_count": 1,
   "metadata": {},
   "outputs": [],
   "source": [
    "from pettingzoo.mpe import simple_tag_v3\n",
    "from modules import DefaultAdversary, DefaultAgent\n",
    "\n",
    "%load_ext autoreload\n",
    "%autoreload 2"
   ]
  },
  {
   "cell_type": "code",
   "execution_count": 18,
   "metadata": {},
   "outputs": [],
   "source": [
    "env = simple_tag_v3.parallel_env(num_good=1, num_adversaries=3, num_obstacles=2, max_cycles=25, continuous_actions=False, render_mode='human')\n",
    "observations, infos = env.reset()"
   ]
  },
  {
   "cell_type": "code",
   "execution_count": 19,
   "metadata": {},
   "outputs": [
    {
     "data": {
      "text/plain": [
       "['adversary_0', 'adversary_1', 'adversary_2', 'agent_0']"
      ]
     },
     "execution_count": 19,
     "metadata": {},
     "output_type": "execute_result"
    }
   ],
   "source": [
    "env.agents"
   ]
  },
  {
   "cell_type": "code",
   "execution_count": 20,
   "metadata": {},
   "outputs": [],
   "source": [
    "# Initialize agents and adversaries\n",
    "actors = {}\n",
    "for agent in env.agents:\n",
    "    if agent[:-2] == 'agent':\n",
    "        actors.update({agent: DefaultAgent(agent, observations[agent])})\n",
    "    elif agent[:-2] == 'adversary':\n",
    "        actors.update({agent: DefaultAdversary(agent, observations[agent])})"
   ]
  },
  {
   "cell_type": "code",
   "execution_count": 21,
   "metadata": {},
   "outputs": [
    {
     "name": "stdout",
     "output_type": "stream",
     "text": [
      "{'adversary_0': 0, 'adversary_1': 0, 'adversary_2': 0, 'agent_0': 0}\n",
      "{'adversary_0': 0, 'adversary_1': 0, 'adversary_2': 0, 'agent_0': 0}\n",
      "{'adversary_0': 0, 'adversary_1': 0, 'adversary_2': 0, 'agent_0': 0}\n",
      "{'adversary_0': 0, 'adversary_1': 0, 'adversary_2': 0, 'agent_0': 0}\n",
      "{'adversary_0': 0, 'adversary_1': 0, 'adversary_2': 0, 'agent_0': 0}\n",
      "{'adversary_0': 0, 'adversary_1': 0, 'adversary_2': 0, 'agent_0': 0}\n",
      "{'adversary_0': 0, 'adversary_1': 0, 'adversary_2': 0, 'agent_0': 0}\n",
      "{'adversary_0': 0, 'adversary_1': 0, 'adversary_2': 0, 'agent_0': 0}\n",
      "{'adversary_0': 0, 'adversary_1': 0, 'adversary_2': 0, 'agent_0': 0}\n",
      "{'adversary_0': 0, 'adversary_1': 0, 'adversary_2': 0, 'agent_0': 0}\n",
      "{'adversary_0': 0, 'adversary_1': 0, 'adversary_2': 0, 'agent_0': 0}\n",
      "{'adversary_0': 0, 'adversary_1': 0, 'adversary_2': 0, 'agent_0': 0}\n",
      "{'adversary_0': 0, 'adversary_1': 0, 'adversary_2': 0, 'agent_0': 0}\n",
      "{'adversary_0': 0, 'adversary_1': 0, 'adversary_2': 0, 'agent_0': 0}\n",
      "{'adversary_0': 0, 'adversary_1': 0, 'adversary_2': 0, 'agent_0': 0}\n",
      "{'adversary_0': 0, 'adversary_1': 0, 'adversary_2': 0, 'agent_0': 0}\n",
      "{'adversary_0': 0, 'adversary_1': 0, 'adversary_2': 0, 'agent_0': 0}\n",
      "{'adversary_0': 0, 'adversary_1': 0, 'adversary_2': 0, 'agent_0': 0}\n",
      "{'adversary_0': 0, 'adversary_1': 0, 'adversary_2': 0, 'agent_0': 0}\n",
      "{'adversary_0': 0, 'adversary_1': 0, 'adversary_2': 0, 'agent_0': 0}\n",
      "{'adversary_0': 0, 'adversary_1': 0, 'adversary_2': 0, 'agent_0': 0}\n",
      "{'adversary_0': 0, 'adversary_1': 0, 'adversary_2': 0, 'agent_0': 0}\n",
      "{'adversary_0': 0, 'adversary_1': 0, 'adversary_2': 0, 'agent_0': 0}\n",
      "{'adversary_0': 0, 'adversary_1': 0, 'adversary_2': 0, 'agent_0': 0}\n",
      "{'adversary_0': 0, 'adversary_1': 0, 'adversary_2': 0, 'agent_0': 0}\n"
     ]
    }
   ],
   "source": [
    "obs_hist_adv_0 = []\n",
    "obs_hist_adv_1 = []\n",
    "obs_hist_adv_2 = []\n",
    "obs_hist_agent_0 = []\n",
    "rewards_history = []\n",
    "total_adversary_reward = 0\n",
    "total_agent_reward = 0\n",
    "history_termination = []\n",
    "history_truncations = []\n",
    "\n",
    "while env.agents:\n",
    "\n",
    "    actions = {agent: actors[agent].get_action() for agent in env.agents}\n",
    "    \n",
    "    print(actions)\n",
    "\n",
    "    observations, rewards, terminations, truncations, infos = env.step(actions)\n",
    "    \n",
    "    obs_hist_adv_0.append(observations['adversary_0'])\n",
    "    obs_hist_adv_1.append(observations['adversary_1'])\n",
    "    obs_hist_adv_2.append(observations['adversary_2'])\n",
    "    obs_hist_agent_0.append(observations['agent_0'])\n",
    "\n",
    "    rewards_history.append(rewards)\n",
    "    \n",
    "    total_adversary_reward += rewards['adversary_0']\n",
    "    total_agent_reward += rewards['agent_0']\n",
    "\n",
    "env.close()\n"
   ]
  },
  {
   "cell_type": "code",
   "execution_count": 22,
   "metadata": {},
   "outputs": [
    {
     "data": {
      "text/plain": [
       "0.0"
      ]
     },
     "execution_count": 22,
     "metadata": {},
     "output_type": "execute_result"
    }
   ],
   "source": [
    "total_adversary_reward"
   ]
  },
  {
   "cell_type": "code",
   "execution_count": 23,
   "metadata": {},
   "outputs": [
    {
     "data": {
      "text/plain": [
       "0.0"
      ]
     },
     "execution_count": 23,
     "metadata": {},
     "output_type": "execute_result"
    }
   ],
   "source": [
    "total_agent_reward"
   ]
  }
 ],
 "metadata": {
  "kernelspec": {
   "display_name": "Python 3 (ipykernel)",
   "language": "python",
   "name": "python3"
  },
  "language_info": {
   "codemirror_mode": {
    "name": "ipython",
    "version": 3
   },
   "file_extension": ".py",
   "mimetype": "text/x-python",
   "name": "python",
   "nbconvert_exporter": "python",
   "pygments_lexer": "ipython3",
   "version": "3.10.14"
  }
 },
 "nbformat": 4,
 "nbformat_minor": 4
}
